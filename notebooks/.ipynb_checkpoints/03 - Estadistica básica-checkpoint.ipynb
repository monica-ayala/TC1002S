{
 "cells": [
  {
   "cell_type": "code",
   "execution_count": 2,
   "id": "49770092",
   "metadata": {},
   "outputs": [],
   "source": [
    "import pandas as pd\n",
    "import random"
   ]
  },
  {
   "cell_type": "code",
   "execution_count": 3,
   "id": "f98b4718",
   "metadata": {},
   "outputs": [
    {
     "data": {
      "text/html": [
       "<div>\n",
       "<style scoped>\n",
       "    .dataframe tbody tr th:only-of-type {\n",
       "        vertical-align: middle;\n",
       "    }\n",
       "\n",
       "    .dataframe tbody tr th {\n",
       "        vertical-align: top;\n",
       "    }\n",
       "\n",
       "    .dataframe thead th {\n",
       "        text-align: right;\n",
       "    }\n",
       "</style>\n",
       "<table border=\"1\" class=\"dataframe\">\n",
       "  <thead>\n",
       "    <tr style=\"text-align: right;\">\n",
       "      <th></th>\n",
       "      <th>ingresos</th>\n",
       "      <th>gastos_comunes</th>\n",
       "      <th>pago_coche</th>\n",
       "      <th>gastos_otros</th>\n",
       "      <th>ahorros</th>\n",
       "      <th>vivienda</th>\n",
       "      <th>estado_civil</th>\n",
       "      <th>hijos</th>\n",
       "      <th>trabajo</th>\n",
       "      <th>comprar</th>\n",
       "    </tr>\n",
       "  </thead>\n",
       "  <tbody>\n",
       "    <tr>\n",
       "      <th>0</th>\n",
       "      <td>6000</td>\n",
       "      <td>1000</td>\n",
       "      <td>0</td>\n",
       "      <td>600</td>\n",
       "      <td>50000</td>\n",
       "      <td>400000</td>\n",
       "      <td>0</td>\n",
       "      <td>2</td>\n",
       "      <td>2</td>\n",
       "      <td>1</td>\n",
       "    </tr>\n",
       "    <tr>\n",
       "      <th>1</th>\n",
       "      <td>6745</td>\n",
       "      <td>944</td>\n",
       "      <td>123</td>\n",
       "      <td>429</td>\n",
       "      <td>43240</td>\n",
       "      <td>636897</td>\n",
       "      <td>1</td>\n",
       "      <td>3</td>\n",
       "      <td>6</td>\n",
       "      <td>0</td>\n",
       "    </tr>\n",
       "    <tr>\n",
       "      <th>2</th>\n",
       "      <td>6455</td>\n",
       "      <td>1033</td>\n",
       "      <td>98</td>\n",
       "      <td>795</td>\n",
       "      <td>57463</td>\n",
       "      <td>321779</td>\n",
       "      <td>2</td>\n",
       "      <td>1</td>\n",
       "      <td>8</td>\n",
       "      <td>1</td>\n",
       "    </tr>\n",
       "    <tr>\n",
       "      <th>3</th>\n",
       "      <td>7098</td>\n",
       "      <td>1278</td>\n",
       "      <td>15</td>\n",
       "      <td>254</td>\n",
       "      <td>54506</td>\n",
       "      <td>660933</td>\n",
       "      <td>0</td>\n",
       "      <td>0</td>\n",
       "      <td>3</td>\n",
       "      <td>0</td>\n",
       "    </tr>\n",
       "    <tr>\n",
       "      <th>4</th>\n",
       "      <td>6167</td>\n",
       "      <td>863</td>\n",
       "      <td>223</td>\n",
       "      <td>520</td>\n",
       "      <td>41512</td>\n",
       "      <td>348932</td>\n",
       "      <td>0</td>\n",
       "      <td>0</td>\n",
       "      <td>3</td>\n",
       "      <td>1</td>\n",
       "    </tr>\n",
       "    <tr>\n",
       "      <th>...</th>\n",
       "      <td>...</td>\n",
       "      <td>...</td>\n",
       "      <td>...</td>\n",
       "      <td>...</td>\n",
       "      <td>...</td>\n",
       "      <td>...</td>\n",
       "      <td>...</td>\n",
       "      <td>...</td>\n",
       "      <td>...</td>\n",
       "      <td>...</td>\n",
       "    </tr>\n",
       "    <tr>\n",
       "      <th>197</th>\n",
       "      <td>3831</td>\n",
       "      <td>690</td>\n",
       "      <td>352</td>\n",
       "      <td>488</td>\n",
       "      <td>10723</td>\n",
       "      <td>363120</td>\n",
       "      <td>0</td>\n",
       "      <td>0</td>\n",
       "      <td>2</td>\n",
       "      <td>0</td>\n",
       "    </tr>\n",
       "    <tr>\n",
       "      <th>198</th>\n",
       "      <td>3961</td>\n",
       "      <td>1030</td>\n",
       "      <td>270</td>\n",
       "      <td>475</td>\n",
       "      <td>21880</td>\n",
       "      <td>280421</td>\n",
       "      <td>2</td>\n",
       "      <td>3</td>\n",
       "      <td>8</td>\n",
       "      <td>0</td>\n",
       "    </tr>\n",
       "    <tr>\n",
       "      <th>199</th>\n",
       "      <td>3184</td>\n",
       "      <td>955</td>\n",
       "      <td>276</td>\n",
       "      <td>684</td>\n",
       "      <td>35565</td>\n",
       "      <td>388025</td>\n",
       "      <td>1</td>\n",
       "      <td>3</td>\n",
       "      <td>8</td>\n",
       "      <td>0</td>\n",
       "    </tr>\n",
       "    <tr>\n",
       "      <th>200</th>\n",
       "      <td>3334</td>\n",
       "      <td>867</td>\n",
       "      <td>369</td>\n",
       "      <td>652</td>\n",
       "      <td>19985</td>\n",
       "      <td>376892</td>\n",
       "      <td>1</td>\n",
       "      <td>2</td>\n",
       "      <td>5</td>\n",
       "      <td>0</td>\n",
       "    </tr>\n",
       "    <tr>\n",
       "      <th>201</th>\n",
       "      <td>3988</td>\n",
       "      <td>1157</td>\n",
       "      <td>105</td>\n",
       "      <td>382</td>\n",
       "      <td>11980</td>\n",
       "      <td>257580</td>\n",
       "      <td>0</td>\n",
       "      <td>0</td>\n",
       "      <td>4</td>\n",
       "      <td>0</td>\n",
       "    </tr>\n",
       "  </tbody>\n",
       "</table>\n",
       "<p>202 rows × 10 columns</p>\n",
       "</div>"
      ],
      "text/plain": [
       "     ingresos  gastos_comunes  pago_coche  gastos_otros  ahorros  vivienda  \\\n",
       "0        6000            1000           0           600    50000    400000   \n",
       "1        6745             944         123           429    43240    636897   \n",
       "2        6455            1033          98           795    57463    321779   \n",
       "3        7098            1278          15           254    54506    660933   \n",
       "4        6167             863         223           520    41512    348932   \n",
       "..        ...             ...         ...           ...      ...       ...   \n",
       "197      3831             690         352           488    10723    363120   \n",
       "198      3961            1030         270           475    21880    280421   \n",
       "199      3184             955         276           684    35565    388025   \n",
       "200      3334             867         369           652    19985    376892   \n",
       "201      3988            1157         105           382    11980    257580   \n",
       "\n",
       "     estado_civil  hijos  trabajo  comprar  \n",
       "0               0      2        2        1  \n",
       "1               1      3        6        0  \n",
       "2               2      1        8        1  \n",
       "3               0      0        3        0  \n",
       "4               0      0        3        1  \n",
       "..            ...    ...      ...      ...  \n",
       "197             0      0        2        0  \n",
       "198             2      3        8        0  \n",
       "199             1      3        8        0  \n",
       "200             1      2        5        0  \n",
       "201             0      0        4        0  \n",
       "\n",
       "[202 rows x 10 columns]"
      ]
     },
     "execution_count": 3,
     "metadata": {},
     "output_type": "execute_result"
    }
   ],
   "source": [
    "df = pd.read_csv('../datasets/comprar_alquilar.csv')\n",
    "df"
   ]
  },
  {
   "cell_type": "markdown",
   "id": "4156354e",
   "metadata": {},
   "source": [
    "# 1. Revisando si existen valores faltantes"
   ]
  },
  {
   "cell_type": "code",
   "execution_count": 4,
   "id": "449742b0",
   "metadata": {},
   "outputs": [
    {
     "data": {
      "text/plain": [
       "202"
      ]
     },
     "execution_count": 4,
     "metadata": {},
     "output_type": "execute_result"
    }
   ],
   "source": [
    "len(df)"
   ]
  },
  {
   "cell_type": "code",
   "execution_count": 5,
   "id": "0240241e",
   "metadata": {
    "scrolled": true
   },
   "outputs": [
    {
     "name": "stdout",
     "output_type": "stream",
     "text": [
      "<class 'pandas.core.frame.DataFrame'>\n",
      "RangeIndex: 202 entries, 0 to 201\n",
      "Data columns (total 10 columns):\n",
      " #   Column          Non-Null Count  Dtype\n",
      "---  ------          --------------  -----\n",
      " 0   ingresos        202 non-null    int64\n",
      " 1   gastos_comunes  202 non-null    int64\n",
      " 2   pago_coche      202 non-null    int64\n",
      " 3   gastos_otros    202 non-null    int64\n",
      " 4   ahorros         202 non-null    int64\n",
      " 5   vivienda        202 non-null    int64\n",
      " 6   estado_civil    202 non-null    int64\n",
      " 7   hijos           202 non-null    int64\n",
      " 8   trabajo         202 non-null    int64\n",
      " 9   comprar         202 non-null    int64\n",
      "dtypes: int64(10)\n",
      "memory usage: 15.9 KB\n"
     ]
    }
   ],
   "source": [
    "df.info()"
   ]
  },
  {
   "cell_type": "code",
   "execution_count": 6,
   "id": "706f70ed",
   "metadata": {},
   "outputs": [
    {
     "data": {
      "text/plain": [
       "ingresos          202\n",
       "gastos_comunes    202\n",
       "pago_coche        202\n",
       "gastos_otros      202\n",
       "ahorros           202\n",
       "vivienda          202\n",
       "estado_civil      202\n",
       "hijos             202\n",
       "trabajo           202\n",
       "comprar           202\n",
       "dtype: int64"
      ]
     },
     "execution_count": 6,
     "metadata": {},
     "output_type": "execute_result"
    }
   ],
   "source": [
    "df.count()"
   ]
  },
  {
   "cell_type": "code",
   "execution_count": 7,
   "id": "29371c75",
   "metadata": {},
   "outputs": [
    {
     "name": "stdout",
     "output_type": "stream",
     "text": [
      "Total:  1001717\n"
     ]
    }
   ],
   "source": [
    "print ('Total: ', df['ingresos'].sum())"
   ]
  },
  {
   "cell_type": "markdown",
   "id": "f2e5fa8d",
   "metadata": {},
   "source": [
    "# 2. Filtros"
   ]
  },
  {
   "cell_type": "code",
   "execution_count": 8,
   "id": "82251f5a",
   "metadata": {},
   "outputs": [
    {
     "data": {
      "text/html": [
       "<div>\n",
       "<style scoped>\n",
       "    .dataframe tbody tr th:only-of-type {\n",
       "        vertical-align: middle;\n",
       "    }\n",
       "\n",
       "    .dataframe tbody tr th {\n",
       "        vertical-align: top;\n",
       "    }\n",
       "\n",
       "    .dataframe thead th {\n",
       "        text-align: right;\n",
       "    }\n",
       "</style>\n",
       "<table border=\"1\" class=\"dataframe\">\n",
       "  <thead>\n",
       "    <tr style=\"text-align: right;\">\n",
       "      <th></th>\n",
       "      <th>ingresos</th>\n",
       "      <th>gastos_comunes</th>\n",
       "      <th>pago_coche</th>\n",
       "      <th>gastos_otros</th>\n",
       "      <th>ahorros</th>\n",
       "      <th>vivienda</th>\n",
       "      <th>estado_civil</th>\n",
       "      <th>hijos</th>\n",
       "      <th>trabajo</th>\n",
       "      <th>comprar</th>\n",
       "    </tr>\n",
       "  </thead>\n",
       "  <tbody>\n",
       "    <tr>\n",
       "      <th>0</th>\n",
       "      <td>6000</td>\n",
       "      <td>1000</td>\n",
       "      <td>0</td>\n",
       "      <td>600</td>\n",
       "      <td>50000</td>\n",
       "      <td>400000</td>\n",
       "      <td>0</td>\n",
       "      <td>2</td>\n",
       "      <td>2</td>\n",
       "      <td>1</td>\n",
       "    </tr>\n",
       "    <tr>\n",
       "      <th>1</th>\n",
       "      <td>6745</td>\n",
       "      <td>944</td>\n",
       "      <td>123</td>\n",
       "      <td>429</td>\n",
       "      <td>43240</td>\n",
       "      <td>636897</td>\n",
       "      <td>1</td>\n",
       "      <td>3</td>\n",
       "      <td>6</td>\n",
       "      <td>0</td>\n",
       "    </tr>\n",
       "    <tr>\n",
       "      <th>2</th>\n",
       "      <td>6455</td>\n",
       "      <td>1033</td>\n",
       "      <td>98</td>\n",
       "      <td>795</td>\n",
       "      <td>57463</td>\n",
       "      <td>321779</td>\n",
       "      <td>2</td>\n",
       "      <td>1</td>\n",
       "      <td>8</td>\n",
       "      <td>1</td>\n",
       "    </tr>\n",
       "    <tr>\n",
       "      <th>3</th>\n",
       "      <td>7098</td>\n",
       "      <td>1278</td>\n",
       "      <td>15</td>\n",
       "      <td>254</td>\n",
       "      <td>54506</td>\n",
       "      <td>660933</td>\n",
       "      <td>0</td>\n",
       "      <td>0</td>\n",
       "      <td>3</td>\n",
       "      <td>0</td>\n",
       "    </tr>\n",
       "    <tr>\n",
       "      <th>4</th>\n",
       "      <td>6167</td>\n",
       "      <td>863</td>\n",
       "      <td>223</td>\n",
       "      <td>520</td>\n",
       "      <td>41512</td>\n",
       "      <td>348932</td>\n",
       "      <td>0</td>\n",
       "      <td>0</td>\n",
       "      <td>3</td>\n",
       "      <td>1</td>\n",
       "    </tr>\n",
       "    <tr>\n",
       "      <th>...</th>\n",
       "      <td>...</td>\n",
       "      <td>...</td>\n",
       "      <td>...</td>\n",
       "      <td>...</td>\n",
       "      <td>...</td>\n",
       "      <td>...</td>\n",
       "      <td>...</td>\n",
       "      <td>...</td>\n",
       "      <td>...</td>\n",
       "      <td>...</td>\n",
       "    </tr>\n",
       "    <tr>\n",
       "      <th>185</th>\n",
       "      <td>4025</td>\n",
       "      <td>1369</td>\n",
       "      <td>32</td>\n",
       "      <td>493</td>\n",
       "      <td>38752</td>\n",
       "      <td>225841</td>\n",
       "      <td>1</td>\n",
       "      <td>4</td>\n",
       "      <td>5</td>\n",
       "      <td>1</td>\n",
       "    </tr>\n",
       "    <tr>\n",
       "      <th>188</th>\n",
       "      <td>4708</td>\n",
       "      <td>1459</td>\n",
       "      <td>84</td>\n",
       "      <td>567</td>\n",
       "      <td>32314</td>\n",
       "      <td>379520</td>\n",
       "      <td>0</td>\n",
       "      <td>0</td>\n",
       "      <td>0</td>\n",
       "      <td>0</td>\n",
       "    </tr>\n",
       "    <tr>\n",
       "      <th>192</th>\n",
       "      <td>4653</td>\n",
       "      <td>1024</td>\n",
       "      <td>447</td>\n",
       "      <td>703</td>\n",
       "      <td>16952</td>\n",
       "      <td>392957</td>\n",
       "      <td>0</td>\n",
       "      <td>0</td>\n",
       "      <td>3</td>\n",
       "      <td>0</td>\n",
       "    </tr>\n",
       "    <tr>\n",
       "      <th>195</th>\n",
       "      <td>4169</td>\n",
       "      <td>1292</td>\n",
       "      <td>48</td>\n",
       "      <td>333</td>\n",
       "      <td>28503</td>\n",
       "      <td>239872</td>\n",
       "      <td>2</td>\n",
       "      <td>1</td>\n",
       "      <td>7</td>\n",
       "      <td>1</td>\n",
       "    </tr>\n",
       "    <tr>\n",
       "      <th>196</th>\n",
       "      <td>4054</td>\n",
       "      <td>1095</td>\n",
       "      <td>371</td>\n",
       "      <td>440</td>\n",
       "      <td>22183</td>\n",
       "      <td>223971</td>\n",
       "      <td>1</td>\n",
       "      <td>0</td>\n",
       "      <td>3</td>\n",
       "      <td>0</td>\n",
       "    </tr>\n",
       "  </tbody>\n",
       "</table>\n",
       "<p>133 rows × 10 columns</p>\n",
       "</div>"
      ],
      "text/plain": [
       "     ingresos  gastos_comunes  pago_coche  gastos_otros  ahorros  vivienda  \\\n",
       "0        6000            1000           0           600    50000    400000   \n",
       "1        6745             944         123           429    43240    636897   \n",
       "2        6455            1033          98           795    57463    321779   \n",
       "3        7098            1278          15           254    54506    660933   \n",
       "4        6167             863         223           520    41512    348932   \n",
       "..        ...             ...         ...           ...      ...       ...   \n",
       "185      4025            1369          32           493    38752    225841   \n",
       "188      4708            1459          84           567    32314    379520   \n",
       "192      4653            1024         447           703    16952    392957   \n",
       "195      4169            1292          48           333    28503    239872   \n",
       "196      4054            1095         371           440    22183    223971   \n",
       "\n",
       "     estado_civil  hijos  trabajo  comprar  \n",
       "0               0      2        2        1  \n",
       "1               1      3        6        0  \n",
       "2               2      1        8        1  \n",
       "3               0      0        3        0  \n",
       "4               0      0        3        1  \n",
       "..            ...    ...      ...      ...  \n",
       "185             1      4        5        1  \n",
       "188             0      0        0        0  \n",
       "192             0      0        3        0  \n",
       "195             2      1        7        1  \n",
       "196             1      0        3        0  \n",
       "\n",
       "[133 rows x 10 columns]"
      ]
     },
     "execution_count": 8,
     "metadata": {},
     "output_type": "execute_result"
    }
   ],
   "source": [
    "mas_de_40 = df[df['ingresos'] > 4000]\n",
    "mas_de_40"
   ]
  },
  {
   "cell_type": "code",
   "execution_count": 12,
   "id": "9fa530fc",
   "metadata": {},
   "outputs": [
    {
     "data": {
      "text/html": [
       "<div>\n",
       "<style scoped>\n",
       "    .dataframe tbody tr th:only-of-type {\n",
       "        vertical-align: middle;\n",
       "    }\n",
       "\n",
       "    .dataframe tbody tr th {\n",
       "        vertical-align: top;\n",
       "    }\n",
       "\n",
       "    .dataframe thead th {\n",
       "        text-align: right;\n",
       "    }\n",
       "</style>\n",
       "<table border=\"1\" class=\"dataframe\">\n",
       "  <thead>\n",
       "    <tr style=\"text-align: right;\">\n",
       "      <th></th>\n",
       "      <th>ingresos</th>\n",
       "      <th>gastos_comunes</th>\n",
       "      <th>pago_coche</th>\n",
       "      <th>gastos_otros</th>\n",
       "      <th>ahorros</th>\n",
       "      <th>vivienda</th>\n",
       "      <th>estado_civil</th>\n",
       "      <th>hijos</th>\n",
       "      <th>trabajo</th>\n",
       "      <th>comprar</th>\n",
       "    </tr>\n",
       "  </thead>\n",
       "  <tbody>\n",
       "    <tr>\n",
       "      <th>2</th>\n",
       "      <td>6455</td>\n",
       "      <td>1033</td>\n",
       "      <td>98</td>\n",
       "      <td>795</td>\n",
       "      <td>57463</td>\n",
       "      <td>321779</td>\n",
       "      <td>2</td>\n",
       "      <td>1</td>\n",
       "      <td>8</td>\n",
       "      <td>1</td>\n",
       "    </tr>\n",
       "    <tr>\n",
       "      <th>4</th>\n",
       "      <td>6167</td>\n",
       "      <td>863</td>\n",
       "      <td>223</td>\n",
       "      <td>520</td>\n",
       "      <td>41512</td>\n",
       "      <td>348932</td>\n",
       "      <td>0</td>\n",
       "      <td>0</td>\n",
       "      <td>3</td>\n",
       "      <td>1</td>\n",
       "    </tr>\n",
       "    <tr>\n",
       "      <th>5</th>\n",
       "      <td>5692</td>\n",
       "      <td>911</td>\n",
       "      <td>11</td>\n",
       "      <td>325</td>\n",
       "      <td>50875</td>\n",
       "      <td>360863</td>\n",
       "      <td>1</td>\n",
       "      <td>4</td>\n",
       "      <td>5</td>\n",
       "      <td>1</td>\n",
       "    </tr>\n",
       "    <tr>\n",
       "      <th>8</th>\n",
       "      <td>6251</td>\n",
       "      <td>1250</td>\n",
       "      <td>209</td>\n",
       "      <td>571</td>\n",
       "      <td>50503</td>\n",
       "      <td>291010</td>\n",
       "      <td>0</td>\n",
       "      <td>0</td>\n",
       "      <td>3</td>\n",
       "      <td>1</td>\n",
       "    </tr>\n",
       "    <tr>\n",
       "      <th>9</th>\n",
       "      <td>6987</td>\n",
       "      <td>1258</td>\n",
       "      <td>252</td>\n",
       "      <td>245</td>\n",
       "      <td>40611</td>\n",
       "      <td>324098</td>\n",
       "      <td>2</td>\n",
       "      <td>1</td>\n",
       "      <td>7</td>\n",
       "      <td>1</td>\n",
       "    </tr>\n",
       "    <tr>\n",
       "      <th>...</th>\n",
       "      <td>...</td>\n",
       "      <td>...</td>\n",
       "      <td>...</td>\n",
       "      <td>...</td>\n",
       "      <td>...</td>\n",
       "      <td>...</td>\n",
       "      <td>...</td>\n",
       "      <td>...</td>\n",
       "      <td>...</td>\n",
       "      <td>...</td>\n",
       "    </tr>\n",
       "    <tr>\n",
       "      <th>185</th>\n",
       "      <td>4025</td>\n",
       "      <td>1369</td>\n",
       "      <td>32</td>\n",
       "      <td>493</td>\n",
       "      <td>38752</td>\n",
       "      <td>225841</td>\n",
       "      <td>1</td>\n",
       "      <td>4</td>\n",
       "      <td>5</td>\n",
       "      <td>1</td>\n",
       "    </tr>\n",
       "    <tr>\n",
       "      <th>188</th>\n",
       "      <td>4708</td>\n",
       "      <td>1459</td>\n",
       "      <td>84</td>\n",
       "      <td>567</td>\n",
       "      <td>32314</td>\n",
       "      <td>379520</td>\n",
       "      <td>0</td>\n",
       "      <td>0</td>\n",
       "      <td>0</td>\n",
       "      <td>0</td>\n",
       "    </tr>\n",
       "    <tr>\n",
       "      <th>192</th>\n",
       "      <td>4653</td>\n",
       "      <td>1024</td>\n",
       "      <td>447</td>\n",
       "      <td>703</td>\n",
       "      <td>16952</td>\n",
       "      <td>392957</td>\n",
       "      <td>0</td>\n",
       "      <td>0</td>\n",
       "      <td>3</td>\n",
       "      <td>0</td>\n",
       "    </tr>\n",
       "    <tr>\n",
       "      <th>195</th>\n",
       "      <td>4169</td>\n",
       "      <td>1292</td>\n",
       "      <td>48</td>\n",
       "      <td>333</td>\n",
       "      <td>28503</td>\n",
       "      <td>239872</td>\n",
       "      <td>2</td>\n",
       "      <td>1</td>\n",
       "      <td>7</td>\n",
       "      <td>1</td>\n",
       "    </tr>\n",
       "    <tr>\n",
       "      <th>196</th>\n",
       "      <td>4054</td>\n",
       "      <td>1095</td>\n",
       "      <td>371</td>\n",
       "      <td>440</td>\n",
       "      <td>22183</td>\n",
       "      <td>223971</td>\n",
       "      <td>1</td>\n",
       "      <td>0</td>\n",
       "      <td>3</td>\n",
       "      <td>0</td>\n",
       "    </tr>\n",
       "  </tbody>\n",
       "</table>\n",
       "<p>72 rows × 10 columns</p>\n",
       "</div>"
      ],
      "text/plain": [
       "     ingresos  gastos_comunes  pago_coche  gastos_otros  ahorros  vivienda  \\\n",
       "2        6455            1033          98           795    57463    321779   \n",
       "4        6167             863         223           520    41512    348932   \n",
       "5        5692             911          11           325    50875    360863   \n",
       "8        6251            1250         209           571    50503    291010   \n",
       "9        6987            1258         252           245    40611    324098   \n",
       "..        ...             ...         ...           ...      ...       ...   \n",
       "185      4025            1369          32           493    38752    225841   \n",
       "188      4708            1459          84           567    32314    379520   \n",
       "192      4653            1024         447           703    16952    392957   \n",
       "195      4169            1292          48           333    28503    239872   \n",
       "196      4054            1095         371           440    22183    223971   \n",
       "\n",
       "     estado_civil  hijos  trabajo  comprar  \n",
       "2               2      1        8        1  \n",
       "4               0      0        3        1  \n",
       "5               1      4        5        1  \n",
       "8               0      0        3        1  \n",
       "9               2      1        7        1  \n",
       "..            ...    ...      ...      ...  \n",
       "185             1      4        5        1  \n",
       "188             0      0        0        0  \n",
       "192             0      0        3        0  \n",
       "195             2      1        7        1  \n",
       "196             1      0        3        0  \n",
       "\n",
       "[72 rows x 10 columns]"
      ]
     },
     "execution_count": 12,
     "metadata": {},
     "output_type": "execute_result"
    }
   ],
   "source": [
    "doble_filtro = df[(df['ingresos'] > 4000)  & (df['vivienda'] < 400000)]\n",
    "doble_filtro"
   ]
  },
  {
   "cell_type": "markdown",
   "id": "b5521833",
   "metadata": {},
   "source": [
    "# 2. Medidas de tendencia central"
   ]
  },
  {
   "cell_type": "markdown",
   "id": "b8b9a8df",
   "metadata": {},
   "source": [
    "A primera vista, resumir los datos puede parecer bastante fácil: calculamos la media de los datos y listo. De hecho, si bien la media es fácil de calcular y conveniente de usar, es posible que no siempre sea la mejor medida para un valor central. Por esta razón, los estadísticos han desarrollado varias estimaciones alternativas a la media."
   ]
  },
  {
   "cell_type": "markdown",
   "id": "ee07a68e",
   "metadata": {},
   "source": [
    "# Media"
   ]
  },
  {
   "cell_type": "markdown",
   "id": "bad7fc37",
   "metadata": {},
   "source": [
    "La estimación más básica de cómo están conformados los datos es el valor medio, media o promedio. La media es la suma de todos los valores dividida por el número de valores. Considera el siguiente conjunto de números: [3, 3, 1, 2]. La media es (3 + 5 + 1 + 2) / 4 = 11 / 4 = 2.75. El símbolo  $\\bar{x}$ representa la media de la muestra de una población (se pronuncia x-bar). La fórmula para calcula la media de una conjunto de N valores ($x_1$,$x_2$,...,$x_N$) es:"
   ]
  },
  {
   "cell_type": "markdown",
   "id": "6b069dfa",
   "metadata": {},
   "source": [
    "Media = $\\bar{x}$ = $\\frac{\\sum_{i=1}^{N}x_i}{N}$"
   ]
  },
  {
   "cell_type": "code",
   "execution_count": 8,
   "id": "882f4e31",
   "metadata": {},
   "outputs": [
    {
     "name": "stdout",
     "output_type": "stream",
     "text": [
      "Media:  4958.995049504951\n"
     ]
    }
   ],
   "source": [
    "print('Media: ', df['ingresos'].mean())"
   ]
  },
  {
   "cell_type": "markdown",
   "id": "3e68df5a",
   "metadata": {},
   "source": [
    "## Media recortada"
   ]
  },
  {
   "cell_type": "markdown",
   "id": "424591fd",
   "metadata": {},
   "source": [
    "Una variación de la media es la media recortada, la cual es calculada después de eliminar los extremos de un conjunto de valores ordenados y luego calculamos el promedio de los valores restantes. De un conjunto de valores ordenados ($x_1$, $x_2$,...,$x_N$) donde $x_1$ es el valor más pequeño y $x_N$ es el valor más grande, la fórmula para calcular la media recortada con los p valores más pequeños y más grandes omitidos es:"
   ]
  },
  {
   "cell_type": "markdown",
   "id": "ecf55625",
   "metadata": {},
   "source": [
    "Media recortada = $\\bar{x}$ = $\\frac{\\sum_{i=p + 1}^{N - p}x_i}{N - 2p}$"
   ]
  },
  {
   "cell_type": "markdown",
   "id": "7a50f878",
   "metadata": {},
   "source": [
    "La media recortada elimina la influencia de valores extremos. Por ejemplo, la puntuación de los concursos internacionales de clavados se obtiene eliminando la puntuación máxima y mínima de los jueces y calculando el promedio de las puntuaciones restantes. Esto imposibilita que un solo juez manipule la puntuación, quizás para favorecer al competidor de su país. Las medias recortadas se utilizan ampliamente y, en muchos casos, es preferible utilizarlas en lugar de la media ordinaria."
   ]
  },
  {
   "cell_type": "code",
   "execution_count": 9,
   "id": "82220abe",
   "metadata": {},
   "outputs": [
    {
     "data": {
      "text/plain": [
       "190    2008\n",
       "180    2022\n",
       "160    2024\n",
       "179    2028\n",
       "173    2028\n",
       "       ... \n",
       "142    7777\n",
       "22     7831\n",
       "138    7877\n",
       "28     7939\n",
       "37     7984\n",
       "Name: ingresos, Length: 202, dtype: int64"
      ]
     },
     "execution_count": 9,
     "metadata": {},
     "output_type": "execute_result"
    }
   ],
   "source": [
    "sorted = df['ingresos'].sort_values()\n",
    "sorted"
   ]
  },
  {
   "cell_type": "code",
   "execution_count": 10,
   "id": "4fbceaf7",
   "metadata": {},
   "outputs": [
    {
     "data": {
      "text/plain": [
       "0      2008\n",
       "1      2022\n",
       "2      2024\n",
       "3      2028\n",
       "4      2028\n",
       "       ... \n",
       "197    7777\n",
       "198    7831\n",
       "199    7877\n",
       "200    7939\n",
       "201    7984\n",
       "Name: ingresos, Length: 202, dtype: int64"
      ]
     },
     "execution_count": 10,
     "metadata": {},
     "output_type": "execute_result"
    }
   ],
   "source": [
    "sorted = sorted.reset_index(drop = True)\n",
    "sorted"
   ]
  },
  {
   "cell_type": "code",
   "execution_count": 11,
   "id": "9f474dca",
   "metadata": {},
   "outputs": [
    {
     "name": "stdout",
     "output_type": "stream",
     "text": [
      "Media recortada:  4959.369791666667\n"
     ]
    }
   ],
   "source": [
    "p = 5\n",
    "acum = 0\n",
    "for i in range(p, len(sorted) - p):\n",
    "    acum += sorted[i]\n",
    "croppedMean =  acum / (len(sorted) - (2 * p))\n",
    "print('Media recortada: ', croppedMean)"
   ]
  },
  {
   "cell_type": "code",
   "execution_count": 12,
   "id": "5bc6f087",
   "metadata": {},
   "outputs": [
    {
     "name": "stdout",
     "output_type": "stream",
     "text": [
      "Media recortada:  4959.369791666667\n"
     ]
    }
   ],
   "source": [
    "p = 5\n",
    "acum = sum(sorted.values.flatten()[p:len(df['ingresos'])-p])\n",
    "croppedMean = acum / (len(sorted) - (2 * p))\n",
    "print('Media recortada: ', croppedMean)"
   ]
  },
  {
   "cell_type": "markdown",
   "id": "23e8d49c",
   "metadata": {},
   "source": [
    "## Media ponderada"
   ]
  },
  {
   "cell_type": "markdown",
   "id": "1c895fa3",
   "metadata": {},
   "source": [
    "Otro tipo de media es la media ponderada, que se calcula multiplicando cada valor $x_i$ por un peso $w_i$ y dividiendo la suma por la suma de los pesos. La fórmula para una media ponderada es:"
   ]
  },
  {
   "cell_type": "markdown",
   "id": "d5f5cd89",
   "metadata": {},
   "source": [
    "Media ponderada = $\\bar{x_{w}}$ = $\\frac{\\sum_{i=1}^{N}w_{i}x_{i}}{\\sum_{i=1}^{N}w_{i}}$"
   ]
  },
  {
   "cell_type": "markdown",
   "id": "693f9859",
   "metadata": {},
   "source": [
    "Hay dos razones principales para usar una media ponderada:\n",
    "* Algunos valores son intrínsecamente más variables que otro, y las observaciones muy variables reciben un peso menor. Por ejemplo, si tomamos el promedio de varios sensores y uno de los sensores es menos preciso, entonces podríamos reducir el peso de ese sensor.\n",
    "*  Los datos recopiladores no representan igualmente a los diferentes grupos que nos interesa medir. Por ejemplo, debido a la forma en que se realizó un experimente en línea, es posible que no tengamos un conjunto de datos que refleje con precisión todos los grupos de usuarios. Para corregir eso, podemos dar un mayor peso a los valores de los grupos que estaban subrepresentados."
   ]
  },
  {
   "cell_type": "code",
   "execution_count": 13,
   "id": "587dbd08",
   "metadata": {},
   "outputs": [
    {
     "name": "stdout",
     "output_type": "stream",
     "text": [
      "[0.46077585324306014, 0.5444829870385103, 0.6423970058599786, 0.3251458500764659, 0.753880615656719, 0.04136986401565579, 0.9328248289354614, 0.4860535420486586, 0.9292149554375247, 0.8620911882568888, 0.36498977936784827, 0.44822840238149675, 0.5028640100065972, 0.4450561668291524, 0.15222821975499534, 0.49766035863967595, 0.5950141630145664, 0.37515508229064753, 0.03849003907457882, 0.7893712968366696, 0.9462592285874004, 0.6472477000981837, 0.2523767944245757, 0.11209183660156574, 0.776730711414651, 0.9655001027374004, 0.19531621313856606, 0.25283158887861157, 0.9752622270554874, 0.9762964070741007, 0.608522824986233, 0.08387922781646628, 0.0074490787529525315, 0.19462156259862573, 0.8570481264609755, 0.09260242367947136, 0.8056277988448114, 0.5444145545640922, 0.06535092854989089, 0.14508772158278593, 0.5053475525325332, 0.8921787529386309, 0.5911429826604959, 0.9232646833075193, 0.4487095035969618, 0.38063698060620876, 0.3795459576107082, 0.6076338985093782, 0.16733670331454897, 0.1386176852221369, 0.7470323555542103, 0.4264546568650789, 0.40308161564043077, 0.23621969504192897, 0.27047114898512403, 0.40471114264273045, 0.27710941599797156, 0.910260714518887, 0.24808146509072904, 0.18371721224062243, 0.7828230605265015, 0.7201330006110118, 0.26790791269941217, 0.6856418886689453, 0.6785913086495392, 0.7875932978524177, 0.5710541783267813, 0.19504541642115503, 0.0747553311657656, 0.713712753306644, 0.33354665270999584, 0.4069174174417034, 0.12009084433154638, 0.6448123432686751, 0.8758470329933047, 0.09505997342185091, 0.27062882351694983, 0.7612873481327035, 0.7402368209602046, 0.8532805670723381, 0.027920385729862662, 0.681225636930561, 0.7839028310793658, 0.39490903228752827, 0.6731406233178017, 0.023888233795066105, 0.4015164663651326, 0.08373865555837001, 0.6213597696009323, 0.7945632156226825, 0.4396562594103569, 0.3798649055671929, 0.06185871828815881, 0.9854687819215622, 0.6959260392529123, 0.46077142733647647, 0.9089114244478473, 0.6800648372492812, 0.2499307362630836, 0.45451964960040936, 0.5713198725844847, 0.7818666158549014, 0.9924012618157921, 0.10584721323268609, 0.11161866927236774, 0.8449020996048044, 0.6684136196518632, 0.11985671470841164, 0.5253952826953846, 0.8411149511821343, 0.20345864567529837, 0.19011436063140852, 0.6526837589652835, 0.4970180494900974, 0.6049426282061265, 0.2676302995887354, 0.0241387681712667, 0.6524506145276943, 0.5346048977772159, 0.15276549457181932, 0.5023953735256449, 0.3996350777386136, 0.7095649208698975, 0.1229645632373666, 0.9600817197794227, 0.6238455503066371, 0.2789857097483158, 0.19462818323548747, 0.31164927375581086, 0.05842078258905481, 0.3806832890564801, 0.7895953313886865, 0.2610639049434218, 0.7682339108426504, 0.5657575309996392, 0.7114697491071325, 0.6163328994905007, 0.8309878574003097, 0.853368991140217, 0.3228951122481968, 0.046219025935103075, 0.26654129584625075, 0.4708305307327265, 0.38691485594718766, 0.07401816942778527, 0.499474052491806, 0.9223897206241184, 0.32596659378780213, 0.13647929293671202, 0.6340392490340471, 0.8875242071628598, 0.021330744608396457, 0.9082926255585692, 0.646241968168455, 0.9834126801450778, 0.24486588489358574, 0.90819345903801, 0.8884618687553045, 0.12974091642163155, 0.25138850569234406, 0.8520047919924194, 0.4682630893979183, 0.07358617810183488, 0.3177147158185545, 0.11423789049409816, 0.5102552185333947, 0.7195470266497067, 0.2205366921984091, 0.3370786142698661, 0.7617348800352578, 0.6429870406134595, 0.11763810344535497, 0.8779408782014197, 0.021368910340546332, 0.8839202803660332, 0.5864936550175793, 0.5492408797358711, 0.907846925387956, 0.31582193363936517, 0.015759542276856275, 0.37383739536044047, 0.7345711450977226, 0.7761579785031818, 0.8000865552422466, 0.9207957519628629, 0.9690347107762837, 0.5630302227551695, 0.5450610512016141, 0.7866262770364738, 0.7618699660589451, 0.49728926322961775, 0.5430615590826362, 0.9381705956991618, 0.8644170264313699, 0.7293454950926936, 0.48069308518134257, 0.7970909284090614, 0.7153142966021069, 0.9699801024663371, 0.24065182225554238, 0.3935308738872353, 0.5344241545676359]\n"
     ]
    }
   ],
   "source": [
    "weights = [random.random() for i in range(len(df['ingresos']))]\n",
    "print(weights)"
   ]
  },
  {
   "cell_type": "code",
   "execution_count": 14,
   "id": "7201e11a",
   "metadata": {},
   "outputs": [
    {
     "name": "stdout",
     "output_type": "stream",
     "text": [
      "Media ponderada:  4969.407507055162\n"
     ]
    }
   ],
   "source": [
    "accWeightedValues = df['ingresos'].values.flatten().dot(weights)\n",
    "weightedMean = accWeightedValues / sum(weights)\n",
    "print('Media ponderada: ', weightedMean)"
   ]
  },
  {
   "cell_type": "markdown",
   "id": "cff04e4c",
   "metadata": {},
   "source": [
    "## Moda"
   ]
  },
  {
   "cell_type": "markdown",
   "id": "dae7f52f",
   "metadata": {},
   "source": [
    "La moda es el valor con mayor frecuencia en la distribución de datos. Si tomamos como ejemplo una muestra compuesta de los siguientes 5 números: 3, 8, 2, 8, 1; el valor modal es 8, ya que se es el que se repite la mayor cantidad de veces. La moda sirve para definir lo más común, lo que más se usa o lo que es más frecuente, en términos matemáticos, el valor de mayor frecuencia absoluta."
   ]
  },
  {
   "cell_type": "code",
   "execution_count": 15,
   "id": "2b87cd91",
   "metadata": {},
   "outputs": [
    {
     "name": "stdout",
     "output_type": "stream",
     "text": [
      "Moda:  2028\n"
     ]
    }
   ],
   "source": [
    "moda = pd.Series(df['ingresos'].values.flatten()).mode()[0]\n",
    "print('Moda: ', moda)"
   ]
  },
  {
   "cell_type": "markdown",
   "id": "02e1ca33",
   "metadata": {},
   "source": [
    "## Mediana"
   ]
  },
  {
   "cell_type": "markdown",
   "id": "1fce565e",
   "metadata": {},
   "source": [
    "La mediana es el número del medio de una lista de datos ordenada. Si hay un número par de valores de datos, el valor medio es uno que no está realmente en el conjunto de datos, sino que es el promedio de los dos valores que dividen los datos ordenados en dos mitades. En comparación con la media, que usa todas las observaciones, la mediana solo depende de los valores en el centro de los datos ordenados. Si bien, esto puede parecer una desventaja, dado que la media es mucho más sensible a los datos, hay muchos casos en los que la mediana es una mejor métrica para la ubicación. Supongamos que queremos analizar los ingresos familiares típicos en los vecindarios de una zona. Al comparar un vecindario de ingresos altos con un vecindario de ingresos bajos, usar la media producirá resultados muy diferentes. Si usamos la mediana, no importa cuán rico sean los que vivan en un vecindario; la posición de la observación intermedia seguirá siendo la misma."
   ]
  },
  {
   "cell_type": "code",
   "execution_count": 16,
   "id": "f8518080",
   "metadata": {},
   "outputs": [
    {
     "name": "stdout",
     "output_type": "stream",
     "text": [
      "Mediana: 4947.5\n"
     ]
    }
   ],
   "source": [
    "print('Mediana:', df['ingresos'].median())"
   ]
  },
  {
   "cell_type": "markdown",
   "id": "0cfb9369",
   "metadata": {},
   "source": [
    "Por las mismas razones por las que usamos una media ponderada, también es posible calcular una mediana ponderada. Al igual que con la mediana, primero ordenamos los datos, aunque cada valor de datos tiene un peso asociado. En lugar de tomar el número del medio, la mediana pondera es el valor tal que la suma de los pesos es igual para ambas mitades de la lista ordenada. Como la mediana, la mediana ponderada es robusta a los valores atípicos (outliners)."
   ]
  },
  {
   "cell_type": "markdown",
   "id": "743efbe9",
   "metadata": {},
   "source": [
    "### Valores atípicos"
   ]
  },
  {
   "cell_type": "markdown",
   "id": "73f80004",
   "metadata": {},
   "source": [
    "La mediana no es la única estimación sólida de la ubicación. De hecho, una media recortada se usa ampliamente para evitar la influencia de valores atípicos. Por ejemplo, recortar el 10% inferior y superior (una estrategia muy usada) de los datos proporcionará protección contra valores atípicos en todos los conjuntos de datos, excepto en los más pequeños. Se puede pensar en la media recortada como un compromiso entre la media y la mediana: es robusta a los valores extremos en los datos, pero utiliza más datos para calcular la estimación de la ubicación."
   ]
  },
  {
   "cell_type": "markdown",
   "id": "9d52fadd",
   "metadata": {},
   "source": [
    "# Desviación estándar"
   ]
  },
  {
   "cell_type": "markdown",
   "id": "f25473f7",
   "metadata": {},
   "source": [
    "La ubicación es solo una dimensión para resumir una característica. Una segunda dimensión, la variabilidad, también conocida como dispersión, mide que tan agrupados o dispersos están los datos. La variabilidad es un concepto muy importante a tener en cuenta: hay que medirla, reducirla, distinguir en la variabilidad aleatoria y la real, identificar las diversas fuentes de variabilidad real y tomar decisiones sobre ella. Asi como existen diferentes formas de medir la ubicación (media, mediana, etc.) también existen diferente formas de medir la variabilidad.\n",
    "\n",
    "Las estimaciones de variación más utilizadas se basan en las diferencia entre la media (una estimación de ubicación) y los datos observados. Para un conjunto de datos, [1, 4, 4], la media es 3 y la mediana es 4. Las desviaciones de la media son las diferencias (1 - 3 = -2, 4 - 3 = 1, 4 - 3 = 1). Estas desviaciones nos dicen qué tan dispersos están los datos alrededor del valor central.\n",
    "\n",
    "Las estimaciones de variabilidad más conocidas son la varianza y la desviación estándar, que se basan en desviaciones cuadradas. La varianza es un promedio de las desviaciones cuadradas y la desviación estándar es la raíz cuadrada de la varianza."
   ]
  },
  {
   "cell_type": "markdown",
   "id": "3eec0524",
   "metadata": {},
   "source": [
    "Varianza = $s^{2}$ = $\\frac{\\sum_{i=1}^{N}(x_{i} - \\bar{x})^{2} }{N - 1}$"
   ]
  },
  {
   "cell_type": "markdown",
   "id": "8b5c40f8",
   "metadata": {},
   "source": [
    "Desviación estándar = $\\sqrt{Varianza}$"
   ]
  },
  {
   "cell_type": "code",
   "execution_count": 17,
   "id": "7ec6af02",
   "metadata": {},
   "outputs": [
    {
     "name": "stdout",
     "output_type": "stream",
     "text": [
      "Varianza:  2832026.3830599478\n"
     ]
    }
   ],
   "source": [
    "print('Varianza: ', df['ingresos'].var())"
   ]
  },
  {
   "cell_type": "code",
   "execution_count": 18,
   "id": "172703a7",
   "metadata": {},
   "outputs": [
    {
     "name": "stdout",
     "output_type": "stream",
     "text": [
      "Desviación estándar:  1682.862556199985\n"
     ]
    }
   ],
   "source": [
    "print('Desviación estándar: ', df['ingresos'].std())"
   ]
  },
  {
   "cell_type": "markdown",
   "id": "43fa251d",
   "metadata": {},
   "source": [
    "## Desviación absoluta mediana"
   ]
  },
  {
   "cell_type": "markdown",
   "id": "1512c696",
   "metadata": {},
   "source": [
    "Promediar las desviaciones en sí no nos diría mucho: las desviaciones negativas compensan las positivas. De hecho, la suma de las desviaciones de la media es exactamente cero. En cambio, un enfoque simple es tomar el promedio de los valores absolutos de las desviaciones de la media. En el ejemplo anterior, el valor absoluto de las desviaciones es [2, 1, 1] y su promedio es (2 + 1+ 1) / 3 = 1.33. Esta se conoce como la desviación absoluta media y se calcula mediante la fórmula:"
   ]
  },
  {
   "cell_type": "markdown",
   "id": "080f343b",
   "metadata": {},
   "source": [
    "Desviación absoluta mediana = $Mediana(\\left | x_{1} - m \\right |, \\left | x_{2} - m \\right |, ..., \\left | x_{N} - m \\right |)$"
   ]
  },
  {
   "cell_type": "markdown",
   "id": "b0a8192f",
   "metadata": {},
   "source": [
    "La desviación estándar es mucho más fácil de interpretar que la varianza, ya que está en la misma escala que los datos originales. Aun así, con su fórmula más complicada y menos intuitiva, puede parecer extraño que en las estadísticas se prefiera la desviación estándar a la desviación media absoluta. Su preferencia se debe a que, matemáticamente, trabajar con valores cuadrados es mucho más conveniente que con valores absolutos, especialmente para modelos estadísticos."
   ]
  },
  {
   "cell_type": "code",
   "execution_count": 19,
   "id": "e73b5426",
   "metadata": {},
   "outputs": [
    {
     "name": "stdout",
     "output_type": "stream",
     "text": [
      "Desviación absoluta media:  1456.4999509851975\n"
     ]
    }
   ],
   "source": [
    "dam = pd.Series(df['ingresos'].values.flatten()).mad()\n",
    "print('Desviación absoluta media: ', dam)"
   ]
  },
  {
   "cell_type": "markdown",
   "id": "5edc3e8a",
   "metadata": {},
   "source": [
    "## Estimaciones basadas en percentiles"
   ]
  },
  {
   "cell_type": "markdown",
   "id": "db9e90d5",
   "metadata": {},
   "source": [
    "Un enfoque diferente que se puede emplear para estimar la dispersión se basa en observar la separación de los datos clasificados. Las estadísticas basadas en datos ordenados, o clasificados, se denominan estadísticas de orden. La medida más básica es el rango: la diferencia entre el número más grande y el más pequeño. Es útil conocer los valores mínimos y máximos en sí mismos y para identificar los valores atípicos, pero el rango es extremadamente sensible a los valores atípicos y no es muy útil como medida general de dispersión.\n",
    "\n",
    "Para evitar la sensibilidad a valores atípicos, podemos mirar el rango de los datos después de eliminar los valores de cada extremo. Formalmente, este tipo de estimaciones se basan en diferencias entre percentiles. En un conjunto de datos, el $n$-ésimo percentil es un valor tal que, al menos, el $n$ por ciento de los valores toman este valor o menos $(100 - n)$ por ciento de los valores toman este valor o más. Por ejemplo, si queremos conocer el percentil 80, ordenamos los dartos. Luego, comenzando con el valor más pequeño, continuamos el 80 por ciento del camino hasta el valor más grande. Ten en cuenta que la mediana es lo mismo que el percentil 50. El percentil es, esencialmente, lo mismo que un cuantil, con cuantiles indexados por fracciones (el cuantil .8 es el percentil 80).\n",
    "\n",
    "Una medida común de variabilidad es la diferencia entre el percentil 25 y el percentil 75, también llamado rango intercuartílico (o IQR). Por ejemplo, queremos conocer el IQR del conjunto de datos [3, 1, 5, 3, 6, 7, 2, 9]. Ordenamos los datos para obtener [1, 2, 3, 3, 5, 6, 7, 9]. El percentil 25 está en 2.5, el percentil 75 está en 6.5, por lo que el rango intercuartílico es 6.5 - 2.5 = 4."
   ]
  },
  {
   "cell_type": "code",
   "execution_count": 20,
   "id": "b51cfcc6",
   "metadata": {},
   "outputs": [
    {
     "data": {
      "text/plain": [
       "0.25    3513.75\n",
       "0.50    4947.50\n",
       "0.75    6374.50\n",
       "Name: ingresos, dtype: float64"
      ]
     },
     "execution_count": 20,
     "metadata": {},
     "output_type": "execute_result"
    }
   ],
   "source": [
    "df['ingresos'].quantile([0.25,0.50, 0.75])"
   ]
  },
  {
   "cell_type": "markdown",
   "id": "11d2fa75",
   "metadata": {},
   "source": [
    "## Correlación"
   ]
  },
  {
   "cell_type": "markdown",
   "id": "71f924d5",
   "metadata": {},
   "source": [
    "El coeficiente de correlación da una estimación de la relación entre dos variables. El coeficiente de correlación de Pearson se calcular multiplicando las desviaciones de la media de la variable 1 por las de la variable 2, dividiendo por el producto de las desviaciones estándar:"
   ]
  },
  {
   "cell_type": "markdown",
   "id": "163615fc",
   "metadata": {},
   "source": [
    "$r(x,y)$ = $\\frac{\\sum_{i=1}^{N}(x_{i} - \\bar{x})(y_{i} - \\bar{y})}{(N - 1)s_{x}s_{y}}$"
   ]
  },
  {
   "cell_type": "markdown",
   "id": "19c8a444",
   "metadata": {},
   "source": [
    "La correlación puede oscilar entre -1 y 1. Valores cercanos a 1, indican que existe una relación más cercana entre las dos variables; valores negativos cercanos a -1 indican una relación inversa. Por último, valores cercanos a 0, significan que no hay relación. Hay que recordar que \"correlación no significa causalidad\". En otras palabras, el hecho de que dos variables estén correlacionadas no significa que se afecten entre sí."
   ]
  },
  {
   "cell_type": "code",
   "execution_count": 21,
   "id": "afd7f49f",
   "metadata": {},
   "outputs": [
    {
     "data": {
      "text/html": [
       "<div>\n",
       "<style scoped>\n",
       "    .dataframe tbody tr th:only-of-type {\n",
       "        vertical-align: middle;\n",
       "    }\n",
       "\n",
       "    .dataframe tbody tr th {\n",
       "        vertical-align: top;\n",
       "    }\n",
       "\n",
       "    .dataframe thead th {\n",
       "        text-align: right;\n",
       "    }\n",
       "</style>\n",
       "<table border=\"1\" class=\"dataframe\">\n",
       "  <thead>\n",
       "    <tr style=\"text-align: right;\">\n",
       "      <th></th>\n",
       "      <th>ingresos</th>\n",
       "      <th>gastos_comunes</th>\n",
       "      <th>pago_coche</th>\n",
       "      <th>gastos_otros</th>\n",
       "      <th>ahorros</th>\n",
       "      <th>vivienda</th>\n",
       "      <th>estado_civil</th>\n",
       "      <th>hijos</th>\n",
       "      <th>trabajo</th>\n",
       "      <th>comprar</th>\n",
       "    </tr>\n",
       "  </thead>\n",
       "  <tbody>\n",
       "    <tr>\n",
       "      <th>0</th>\n",
       "      <td>6000</td>\n",
       "      <td>1000</td>\n",
       "      <td>0</td>\n",
       "      <td>600</td>\n",
       "      <td>50000</td>\n",
       "      <td>400000</td>\n",
       "      <td>0</td>\n",
       "      <td>2</td>\n",
       "      <td>2</td>\n",
       "      <td>1</td>\n",
       "    </tr>\n",
       "    <tr>\n",
       "      <th>1</th>\n",
       "      <td>6745</td>\n",
       "      <td>944</td>\n",
       "      <td>123</td>\n",
       "      <td>429</td>\n",
       "      <td>43240</td>\n",
       "      <td>636897</td>\n",
       "      <td>1</td>\n",
       "      <td>3</td>\n",
       "      <td>6</td>\n",
       "      <td>0</td>\n",
       "    </tr>\n",
       "    <tr>\n",
       "      <th>2</th>\n",
       "      <td>6455</td>\n",
       "      <td>1033</td>\n",
       "      <td>98</td>\n",
       "      <td>795</td>\n",
       "      <td>57463</td>\n",
       "      <td>321779</td>\n",
       "      <td>2</td>\n",
       "      <td>1</td>\n",
       "      <td>8</td>\n",
       "      <td>1</td>\n",
       "    </tr>\n",
       "    <tr>\n",
       "      <th>3</th>\n",
       "      <td>7098</td>\n",
       "      <td>1278</td>\n",
       "      <td>15</td>\n",
       "      <td>254</td>\n",
       "      <td>54506</td>\n",
       "      <td>660933</td>\n",
       "      <td>0</td>\n",
       "      <td>0</td>\n",
       "      <td>3</td>\n",
       "      <td>0</td>\n",
       "    </tr>\n",
       "    <tr>\n",
       "      <th>4</th>\n",
       "      <td>6167</td>\n",
       "      <td>863</td>\n",
       "      <td>223</td>\n",
       "      <td>520</td>\n",
       "      <td>41512</td>\n",
       "      <td>348932</td>\n",
       "      <td>0</td>\n",
       "      <td>0</td>\n",
       "      <td>3</td>\n",
       "      <td>1</td>\n",
       "    </tr>\n",
       "    <tr>\n",
       "      <th>...</th>\n",
       "      <td>...</td>\n",
       "      <td>...</td>\n",
       "      <td>...</td>\n",
       "      <td>...</td>\n",
       "      <td>...</td>\n",
       "      <td>...</td>\n",
       "      <td>...</td>\n",
       "      <td>...</td>\n",
       "      <td>...</td>\n",
       "      <td>...</td>\n",
       "    </tr>\n",
       "    <tr>\n",
       "      <th>197</th>\n",
       "      <td>3831</td>\n",
       "      <td>690</td>\n",
       "      <td>352</td>\n",
       "      <td>488</td>\n",
       "      <td>10723</td>\n",
       "      <td>363120</td>\n",
       "      <td>0</td>\n",
       "      <td>0</td>\n",
       "      <td>2</td>\n",
       "      <td>0</td>\n",
       "    </tr>\n",
       "    <tr>\n",
       "      <th>198</th>\n",
       "      <td>3961</td>\n",
       "      <td>1030</td>\n",
       "      <td>270</td>\n",
       "      <td>475</td>\n",
       "      <td>21880</td>\n",
       "      <td>280421</td>\n",
       "      <td>2</td>\n",
       "      <td>3</td>\n",
       "      <td>8</td>\n",
       "      <td>0</td>\n",
       "    </tr>\n",
       "    <tr>\n",
       "      <th>199</th>\n",
       "      <td>3184</td>\n",
       "      <td>955</td>\n",
       "      <td>276</td>\n",
       "      <td>684</td>\n",
       "      <td>35565</td>\n",
       "      <td>388025</td>\n",
       "      <td>1</td>\n",
       "      <td>3</td>\n",
       "      <td>8</td>\n",
       "      <td>0</td>\n",
       "    </tr>\n",
       "    <tr>\n",
       "      <th>200</th>\n",
       "      <td>3334</td>\n",
       "      <td>867</td>\n",
       "      <td>369</td>\n",
       "      <td>652</td>\n",
       "      <td>19985</td>\n",
       "      <td>376892</td>\n",
       "      <td>1</td>\n",
       "      <td>2</td>\n",
       "      <td>5</td>\n",
       "      <td>0</td>\n",
       "    </tr>\n",
       "    <tr>\n",
       "      <th>201</th>\n",
       "      <td>3988</td>\n",
       "      <td>1157</td>\n",
       "      <td>105</td>\n",
       "      <td>382</td>\n",
       "      <td>11980</td>\n",
       "      <td>257580</td>\n",
       "      <td>0</td>\n",
       "      <td>0</td>\n",
       "      <td>4</td>\n",
       "      <td>0</td>\n",
       "    </tr>\n",
       "  </tbody>\n",
       "</table>\n",
       "<p>202 rows × 10 columns</p>\n",
       "</div>"
      ],
      "text/plain": [
       "     ingresos  gastos_comunes  pago_coche  gastos_otros  ahorros  vivienda  \\\n",
       "0        6000            1000           0           600    50000    400000   \n",
       "1        6745             944         123           429    43240    636897   \n",
       "2        6455            1033          98           795    57463    321779   \n",
       "3        7098            1278          15           254    54506    660933   \n",
       "4        6167             863         223           520    41512    348932   \n",
       "..        ...             ...         ...           ...      ...       ...   \n",
       "197      3831             690         352           488    10723    363120   \n",
       "198      3961            1030         270           475    21880    280421   \n",
       "199      3184             955         276           684    35565    388025   \n",
       "200      3334             867         369           652    19985    376892   \n",
       "201      3988            1157         105           382    11980    257580   \n",
       "\n",
       "     estado_civil  hijos  trabajo  comprar  \n",
       "0               0      2        2        1  \n",
       "1               1      3        6        0  \n",
       "2               2      1        8        1  \n",
       "3               0      0        3        0  \n",
       "4               0      0        3        1  \n",
       "..            ...    ...      ...      ...  \n",
       "197             0      0        2        0  \n",
       "198             2      3        8        0  \n",
       "199             1      3        8        0  \n",
       "200             1      2        5        0  \n",
       "201             0      0        4        0  \n",
       "\n",
       "[202 rows x 10 columns]"
      ]
     },
     "execution_count": 21,
     "metadata": {},
     "output_type": "execute_result"
    }
   ],
   "source": [
    "df"
   ]
  },
  {
   "cell_type": "code",
   "execution_count": 70,
   "id": "9f7bc97e",
   "metadata": {},
   "outputs": [
    {
     "data": {
      "text/html": [
       "<div>\n",
       "<style scoped>\n",
       "    .dataframe tbody tr th:only-of-type {\n",
       "        vertical-align: middle;\n",
       "    }\n",
       "\n",
       "    .dataframe tbody tr th {\n",
       "        vertical-align: top;\n",
       "    }\n",
       "\n",
       "    .dataframe thead th {\n",
       "        text-align: right;\n",
       "    }\n",
       "</style>\n",
       "<table border=\"1\" class=\"dataframe\">\n",
       "  <thead>\n",
       "    <tr style=\"text-align: right;\">\n",
       "      <th></th>\n",
       "      <th>hijos</th>\n",
       "      <th>ingresos</th>\n",
       "      <th>gastos</th>\n",
       "    </tr>\n",
       "  </thead>\n",
       "  <tbody>\n",
       "    <tr>\n",
       "      <th>0</th>\n",
       "      <td>2</td>\n",
       "      <td>6000</td>\n",
       "      <td>1600</td>\n",
       "    </tr>\n",
       "    <tr>\n",
       "      <th>1</th>\n",
       "      <td>3</td>\n",
       "      <td>6745</td>\n",
       "      <td>1496</td>\n",
       "    </tr>\n",
       "    <tr>\n",
       "      <th>2</th>\n",
       "      <td>1</td>\n",
       "      <td>6455</td>\n",
       "      <td>1926</td>\n",
       "    </tr>\n",
       "    <tr>\n",
       "      <th>3</th>\n",
       "      <td>0</td>\n",
       "      <td>7098</td>\n",
       "      <td>1547</td>\n",
       "    </tr>\n",
       "    <tr>\n",
       "      <th>4</th>\n",
       "      <td>0</td>\n",
       "      <td>6167</td>\n",
       "      <td>1606</td>\n",
       "    </tr>\n",
       "    <tr>\n",
       "      <th>...</th>\n",
       "      <td>...</td>\n",
       "      <td>...</td>\n",
       "      <td>...</td>\n",
       "    </tr>\n",
       "    <tr>\n",
       "      <th>197</th>\n",
       "      <td>0</td>\n",
       "      <td>3831</td>\n",
       "      <td>1530</td>\n",
       "    </tr>\n",
       "    <tr>\n",
       "      <th>198</th>\n",
       "      <td>3</td>\n",
       "      <td>3961</td>\n",
       "      <td>1775</td>\n",
       "    </tr>\n",
       "    <tr>\n",
       "      <th>199</th>\n",
       "      <td>3</td>\n",
       "      <td>3184</td>\n",
       "      <td>1915</td>\n",
       "    </tr>\n",
       "    <tr>\n",
       "      <th>200</th>\n",
       "      <td>2</td>\n",
       "      <td>3334</td>\n",
       "      <td>1888</td>\n",
       "    </tr>\n",
       "    <tr>\n",
       "      <th>201</th>\n",
       "      <td>0</td>\n",
       "      <td>3988</td>\n",
       "      <td>1644</td>\n",
       "    </tr>\n",
       "  </tbody>\n",
       "</table>\n",
       "<p>202 rows × 3 columns</p>\n",
       "</div>"
      ],
      "text/plain": [
       "     hijos  ingresos  gastos\n",
       "0        2      6000    1600\n",
       "1        3      6745    1496\n",
       "2        1      6455    1926\n",
       "3        0      7098    1547\n",
       "4        0      6167    1606\n",
       "..     ...       ...     ...\n",
       "197      0      3831    1530\n",
       "198      3      3961    1775\n",
       "199      3      3184    1915\n",
       "200      2      3334    1888\n",
       "201      0      3988    1644\n",
       "\n",
       "[202 rows x 3 columns]"
      ]
     },
     "execution_count": 70,
     "metadata": {},
     "output_type": "execute_result"
    }
   ],
   "source": [
    "selected = df[['hijos', 'ingresos']]\n",
    "aux = (df['gastos_comunes'] + df['pago_coche'] + temp['gastos_otros']).values\n",
    "selected = selected.assign(gastos = aux)\n",
    "selected"
   ]
  },
  {
   "cell_type": "code",
   "execution_count": 71,
   "id": "cc660b30",
   "metadata": {},
   "outputs": [
    {
     "name": "stdout",
     "output_type": "stream",
     "text": [
      "Correlación Pearson:  -0.013227831122921273\n",
      "Correlación spearman:  -0.015689487358224386\n",
      "Correlación kendall:  -0.012304208834291197\n"
     ]
    }
   ],
   "source": [
    "print('Correlación Pearson: ', selected['hijos'].corr(selected['gastos'], method='pearson'))\n",
    "print('Correlación spearman: ', selected['hijos'].corr(selected['gastos'], method='spearman'))\n",
    "print('Correlación kendall: ', selected['hijos'].corr(selected['gastos'], method='kendall'))"
   ]
  },
  {
   "cell_type": "code",
   "execution_count": 72,
   "id": "38f89fcc",
   "metadata": {},
   "outputs": [
    {
     "name": "stdout",
     "output_type": "stream",
     "text": [
      "Correlación Pearson:  0.3628225113311151\n",
      "Correlación spearman:  0.35388389040394264\n",
      "Correlación kendall:  0.24451179550071883\n"
     ]
    }
   ],
   "source": [
    "print('Correlación Pearson: ', selected['ingresos'].corr(selected['gastos'], method='pearson'))\n",
    "print('Correlación spearman: ', selected['ingresos'].corr(selected['gastos'], method='spearman'))\n",
    "print('Correlación kendall: ', selected['ingresos'].corr(selected['gastos'], method='kendall'))"
   ]
  },
  {
   "cell_type": "markdown",
   "id": "c2a11d5b",
   "metadata": {},
   "source": [
    "Una limitación de Pandas es que no calcula la significancia estadística. \n",
    "\n",
    "Como mencionamos antes, el coeficiente de correlación, $r$ ,es un valor sin unidades entre -1 y 1. La significancia estadística se indica con un valor $p$. Por lo tanto, usualmente las correlaciones se escriben con dos números clave: $r$ = y $p$ = .\n",
    "* Cuanto más se aproxima $r$ a cero, más débil es la relación lineal.\n",
    "* Los valores de $r$ positivos indican una correlación positiva, en la que los valores de ambas variables tienden a incrementarse juntos.\n",
    "* Los valores de $r$ negativos indican una correlación negativa, en la que los valores de una variable tienden a incrementarse mientras que los valores de la otra variable descienden.\n",
    "* Los valores 1 y -1 representan una correlación \"perfecta\" positiva y negativa, respectivamente. Dos variables perfectamente correlacionadas cambian conjuntamente a una tasa fija. Decimos que tienen una relación linear; cuando representados en un gráfico de dispersión, todos los puntos correspondientes a los datos pueden conectarse con una misma línea recta.\n",
    "* El valor $p$ nos ayuda a determinar si podemos o no concluir de manera significativa que el coeficiente de correlación de la población es diferente a cero, basándonos en lo que observamos en la muestra.\n",
    "\n",
    "El valor $p$ es una medida de probabilidad empleada para hacer pruebas de hipótesis. El objetivo de una prueba de hipótesis es determinar si hay evidencia suficiente para apoyar una determinada hipótesis sobre los datos. De hecho, formulamos dos hipótesis: la hipótesis nula y la hipótesis alternativa. En el análisis de correlación, usualmente, **la hipótesis nula expresa que la relación observada entre las variables es producto del mero azar** (esto es, que el coeficiente de correlación en realidad es cero y no hay una relación lineal). La **hipótesis alternativa expresa que la correlación que hemos medido está legítimamente presente en nuestros datos** (esto es, que el coeficiente de correlación es distinto a cero).\n",
    "\n",
    "El valor $p$ es la probabilidad de observar un coeficiente de correlación distinto a cero en los datos de nuestra muestra cuando en realidad la hipótesis nula es verdadera. Un valor p bajo nos lleva a rechazar la hipótesis nula. Un umbral típico para rechazar la hipótesis nula es un valor p de 0,05. Esto es, si el valor p es inferior a 0,05, rechazaríamos la hipótesis nula en favor de la hipótesis alternativa: que el coeficiente de correlación es diferente a cero."
   ]
  },
  {
   "cell_type": "code",
   "execution_count": 73,
   "id": "e5f0cef0",
   "metadata": {},
   "outputs": [],
   "source": [
    "from scipy import stats\n",
    "from scipy.stats import pearsonr"
   ]
  },
  {
   "cell_type": "code",
   "execution_count": 74,
   "id": "85e4eac7",
   "metadata": {},
   "outputs": [
    {
     "name": "stdout",
     "output_type": "stream",
     "text": [
      "Correlación Pearson: r=-0.013227831122921243, p-value=0.851782736653732\n",
      "Correlación Spearman: r=-0.015689487358224386, p-value=0.8246102381082991\n",
      "Correlación Pearson: r=-0.012304208834291197, p-value=0.8155465256085394\n"
     ]
    }
   ],
   "source": [
    "r, p = stats.pearsonr(selected['hijos'], selected['gastos'])\n",
    "print(f\"Correlación Pearson: r={r}, p-value={p}\")\n",
    "\n",
    "r, p = stats.spearmanr(selected['hijos'], selected['gastos'])\n",
    "print(f\"Correlación Spearman: r={r}, p-value={p}\")\n",
    "\n",
    "r, p = stats.kendalltau(selected['hijos'], selected['gastos'])\n",
    "print(f\"Correlación Pearson: r={r}, p-value={p}\")"
   ]
  },
  {
   "cell_type": "code",
   "execution_count": 75,
   "id": "d0210b9e",
   "metadata": {},
   "outputs": [
    {
     "name": "stdout",
     "output_type": "stream",
     "text": [
      "Correlación Pearson: r=0.36282251133111526, p-value=1.1167959359092352e-07\n",
      "Correlación Spearman: r=0.35388389040394264, p-value=2.3840275027781308e-07\n",
      "Correlación Pearson: r=0.24451179550071883, p-value=2.3905377446810804e-07\n"
     ]
    }
   ],
   "source": [
    "r, p = stats.pearsonr(selected['ingresos'], selected['gastos'])\n",
    "print(f\"Correlación Pearson: r={r}, p-value={p}\")\n",
    "\n",
    "r, p = stats.spearmanr(selected['ingresos'], selected['gastos'])\n",
    "print(f\"Correlación Spearman: r={r}, p-value={p}\")\n",
    "\n",
    "r, p = stats.kendalltau(selected['ingresos'], selected['gastos'])\n",
    "print(f\"Correlación Pearson: r={r}, p-value={p}\")"
   ]
  },
  {
   "cell_type": "markdown",
   "id": "4eacf67b",
   "metadata": {},
   "source": [
    "## Covarianza"
   ]
  },
  {
   "cell_type": "markdown",
   "id": "497110ed",
   "metadata": {},
   "source": [
    "La covarianza es el valor que refleja en qué cuantía dos variables aleatorias varían de forma conjunta respecto a sus medias. Nos permite saber cómo se comporta una variable en función de lo que hace otra variable. Es decir, cuando $X$ sube ¿Cómo se comporta $Y$? Así pues, la covarianza puede tomar los siguiente valores:\n",
    "* Si $Covarianza(X,Y)$ es menor que cero, entonces cuando $X$ sube, $Y$ baja. Hay una relación negativa.\n",
    "* Si $Covarianza(X,Y)$ es mayor que cero, entonces cuando $X$ sube, $Y$ sube. Hay una relación positiva.\n",
    "* Si $Covarianza(X,Y)$ es igual a cero, no hya relación entre $X$  y $Y$."
   ]
  },
  {
   "cell_type": "code",
   "execution_count": 82,
   "id": "2ae2a392",
   "metadata": {},
   "outputs": [
    {
     "data": {
      "text/plain": [
       "198339.7251366927"
      ]
     },
     "execution_count": 82,
     "metadata": {},
     "output_type": "execute_result"
    }
   ],
   "source": [
    "selected['ingresos'].cov(selected['gastos'])"
   ]
  }
 ],
 "metadata": {
  "kernelspec": {
   "display_name": "Python 3 (ipykernel)",
   "language": "python",
   "name": "python3"
  },
  "language_info": {
   "codemirror_mode": {
    "name": "ipython",
    "version": 3
   },
   "file_extension": ".py",
   "mimetype": "text/x-python",
   "name": "python",
   "nbconvert_exporter": "python",
   "pygments_lexer": "ipython3",
   "version": "3.8.11"
  }
 },
 "nbformat": 4,
 "nbformat_minor": 5
}
